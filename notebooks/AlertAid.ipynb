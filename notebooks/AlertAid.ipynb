{
  "nbformat": 4,
  "nbformat_minor": 0,
  "metadata": {
    "colab": {
      "provenance": []
    },
    "kernelspec": {
      "name": "python3",
      "display_name": "Python 3"
    },
    "language_info": {
      "name": "python"
    }
  },
  "cells": [
    {
      "cell_type": "code",
      "execution_count": 1,
      "metadata": {
        "colab": {
          "base_uri": "https://localhost:8080/"
        },
        "id": "uKloBX698aWP",
        "outputId": "82397599-61d9-4070-d3bd-25e906ce9245"
      },
      "outputs": [
        {
          "output_type": "stream",
          "name": "stdout",
          "text": [
            "Requirement already satisfied: google-generativeai in /usr/local/lib/python3.11/dist-packages (0.8.5)\n",
            "Requirement already satisfied: google-ai-generativelanguage==0.6.15 in /usr/local/lib/python3.11/dist-packages (from google-generativeai) (0.6.15)\n",
            "Requirement already satisfied: google-api-core in /usr/local/lib/python3.11/dist-packages (from google-generativeai) (2.25.1)\n",
            "Requirement already satisfied: google-api-python-client in /usr/local/lib/python3.11/dist-packages (from google-generativeai) (2.176.0)\n",
            "Requirement already satisfied: google-auth>=2.15.0 in /usr/local/lib/python3.11/dist-packages (from google-generativeai) (2.38.0)\n",
            "Requirement already satisfied: protobuf in /usr/local/lib/python3.11/dist-packages (from google-generativeai) (5.29.5)\n",
            "Requirement already satisfied: pydantic in /usr/local/lib/python3.11/dist-packages (from google-generativeai) (2.11.7)\n",
            "Requirement already satisfied: tqdm in /usr/local/lib/python3.11/dist-packages (from google-generativeai) (4.67.1)\n",
            "Requirement already satisfied: typing-extensions in /usr/local/lib/python3.11/dist-packages (from google-generativeai) (4.14.1)\n",
            "Requirement already satisfied: proto-plus<2.0.0dev,>=1.22.3 in /usr/local/lib/python3.11/dist-packages (from google-ai-generativelanguage==0.6.15->google-generativeai) (1.26.1)\n",
            "Requirement already satisfied: googleapis-common-protos<2.0.0,>=1.56.2 in /usr/local/lib/python3.11/dist-packages (from google-api-core->google-generativeai) (1.70.0)\n",
            "Requirement already satisfied: requests<3.0.0,>=2.18.0 in /usr/local/lib/python3.11/dist-packages (from google-api-core->google-generativeai) (2.32.3)\n",
            "Requirement already satisfied: cachetools<6.0,>=2.0.0 in /usr/local/lib/python3.11/dist-packages (from google-auth>=2.15.0->google-generativeai) (5.5.2)\n",
            "Requirement already satisfied: pyasn1-modules>=0.2.1 in /usr/local/lib/python3.11/dist-packages (from google-auth>=2.15.0->google-generativeai) (0.4.2)\n",
            "Requirement already satisfied: rsa<5,>=3.1.4 in /usr/local/lib/python3.11/dist-packages (from google-auth>=2.15.0->google-generativeai) (4.9.1)\n",
            "Requirement already satisfied: httplib2<1.0.0,>=0.19.0 in /usr/local/lib/python3.11/dist-packages (from google-api-python-client->google-generativeai) (0.22.0)\n",
            "Requirement already satisfied: google-auth-httplib2<1.0.0,>=0.2.0 in /usr/local/lib/python3.11/dist-packages (from google-api-python-client->google-generativeai) (0.2.0)\n",
            "Requirement already satisfied: uritemplate<5,>=3.0.1 in /usr/local/lib/python3.11/dist-packages (from google-api-python-client->google-generativeai) (4.2.0)\n",
            "Requirement already satisfied: annotated-types>=0.6.0 in /usr/local/lib/python3.11/dist-packages (from pydantic->google-generativeai) (0.7.0)\n",
            "Requirement already satisfied: pydantic-core==2.33.2 in /usr/local/lib/python3.11/dist-packages (from pydantic->google-generativeai) (2.33.2)\n",
            "Requirement already satisfied: typing-inspection>=0.4.0 in /usr/local/lib/python3.11/dist-packages (from pydantic->google-generativeai) (0.4.1)\n",
            "Requirement already satisfied: grpcio<2.0.0,>=1.33.2 in /usr/local/lib/python3.11/dist-packages (from google-api-core[grpc]!=2.0.*,!=2.1.*,!=2.10.*,!=2.2.*,!=2.3.*,!=2.4.*,!=2.5.*,!=2.6.*,!=2.7.*,!=2.8.*,!=2.9.*,<3.0.0dev,>=1.34.1->google-ai-generativelanguage==0.6.15->google-generativeai) (1.73.1)\n",
            "Requirement already satisfied: grpcio-status<2.0.0,>=1.33.2 in /usr/local/lib/python3.11/dist-packages (from google-api-core[grpc]!=2.0.*,!=2.1.*,!=2.10.*,!=2.2.*,!=2.3.*,!=2.4.*,!=2.5.*,!=2.6.*,!=2.7.*,!=2.8.*,!=2.9.*,<3.0.0dev,>=1.34.1->google-ai-generativelanguage==0.6.15->google-generativeai) (1.71.2)\n",
            "Requirement already satisfied: pyparsing!=3.0.0,!=3.0.1,!=3.0.2,!=3.0.3,<4,>=2.4.2 in /usr/local/lib/python3.11/dist-packages (from httplib2<1.0.0,>=0.19.0->google-api-python-client->google-generativeai) (3.2.3)\n",
            "Requirement already satisfied: pyasn1<0.7.0,>=0.6.1 in /usr/local/lib/python3.11/dist-packages (from pyasn1-modules>=0.2.1->google-auth>=2.15.0->google-generativeai) (0.6.1)\n",
            "Requirement already satisfied: charset-normalizer<4,>=2 in /usr/local/lib/python3.11/dist-packages (from requests<3.0.0,>=2.18.0->google-api-core->google-generativeai) (3.4.2)\n",
            "Requirement already satisfied: idna<4,>=2.5 in /usr/local/lib/python3.11/dist-packages (from requests<3.0.0,>=2.18.0->google-api-core->google-generativeai) (3.10)\n",
            "Requirement already satisfied: urllib3<3,>=1.21.1 in /usr/local/lib/python3.11/dist-packages (from requests<3.0.0,>=2.18.0->google-api-core->google-generativeai) (2.4.0)\n",
            "Requirement already satisfied: certifi>=2017.4.17 in /usr/local/lib/python3.11/dist-packages (from requests<3.0.0,>=2.18.0->google-api-core->google-generativeai) (2025.7.9)\n"
          ]
        }
      ],
      "source": [
        "!pip install --upgrade google-generativeai"
      ]
    },
    {
      "cell_type": "code",
      "source": [
        "import os\n",
        "from getpass import getpass\n",
        "\n",
        "# Secure API key input\n",
        "os.environ[\"GOOGLE_API_KEY\"] = getpass(\"🔑 Enter your Google API Key: \")"
      ],
      "metadata": {
        "colab": {
          "base_uri": "https://localhost:8080/"
        },
        "id": "OhAcskY387_Y",
        "outputId": "5bdcd556-a291-434b-cf93-f6b7668b6dfe"
      },
      "execution_count": 2,
      "outputs": [
        {
          "name": "stdout",
          "output_type": "stream",
          "text": [
            "🔑 Enter your Google API Key: ··········\n"
          ]
        }
      ]
    },
    {
      "cell_type": "code",
      "source": [
        "import google.generativeai as genai\n",
        "\n",
        "genai.configure(api_key=os.environ[\"GOOGLE_API_KEY\"])\n",
        "\n",
        "# Load Gemini 1.5 Flash\n",
        "model = genai.GenerativeModel(\"models/gemini-1.5-flash-latest\")"
      ],
      "metadata": {
        "id": "vibr9aBF8or4"
      },
      "execution_count": 3,
      "outputs": []
    },
    {
      "cell_type": "code",
      "source": [
        "import re\n",
        "import json\n",
        "\n",
        "def classify_hazard(text):\n",
        "    prompt = f\"\"\"\n",
        "You are a certified workplace safety AI. Your job is to analyze hazard reports and classify them into severity levels.\n",
        "\n",
        "There are 3 severity levels:\n",
        "1️⃣ High (severity = 1): Immediate danger, injury likely or already occurred, requires urgent action.\n",
        "2️⃣ Medium (severity = 2): Moderate hazard, no injury yet, but risk exists and action is needed soon.\n",
        "3️⃣ Low (severity = 3): Minor issue, unlikely to cause harm, monitor or fix when convenient.\n",
        "\n",
        "--- Examples ---\n",
        "\n",
        "Example 1:\n",
        "Input: \"Oil spill near power unit. Workers slipping. Machines still running.\"\n",
        "Output:\n",
        "{{\n",
        "  \"hazard_level\": \"High\",\n",
        "  \"severity\": 1,\n",
        "  \"report_text\": \"...\"\n",
        "}}\n",
        "\n",
        "Example 2:\n",
        "Input: \"Forklift missing reverse beeper in shared aisle. No injury yet.\"\n",
        "Output:\n",
        "{{\n",
        "  \"hazard_level\": \"Medium\",\n",
        "  \"severity\": 2,\n",
        "  \"report_text\": \"...\"\n",
        "}}\n",
        "\n",
        "Example 3:\n",
        "Input: \"Coffee spill near microwave. Cleaned up. No one slipped.\"\n",
        "Output:\n",
        "{{\n",
        "  \"hazard_level\": \"Low\",\n",
        "  \"severity\": 3,\n",
        "  \"report_text\": \"...\"\n",
        "}}\n",
        "\n",
        "--- Classify This ---\n",
        "\n",
        "Input: \"{text}\"\n",
        "\n",
        "Respond only with a JSON object with the following keys:\n",
        "- hazard_level (string: High, Medium, or Low)\n",
        "- severity (integer: 1, 2, or 3)\n",
        "- report_text (string: full formatted safety report)\n",
        "\"\"\"\n",
        "    response = model.generate_content(prompt)\n",
        "    raw_output = response.text\n",
        "\n",
        "    # Extract JSON block from response (even if wrapped in code)\n",
        "    match = re.search(r\"\\{.*\\}\", raw_output, re.DOTALL)\n",
        "    if match:\n",
        "        try:\n",
        "            return json.loads(match.group())\n",
        "        except Exception as e:\n",
        "            raise ValueError(\"❌ Gemini response was not valid JSON. Fix prompt or parse manually.\") from e\n",
        "    else:\n",
        "        raise ValueError(\"❌ No JSON found in Gemini response.\")"
      ],
      "metadata": {
        "id": "V_4QBViX_05X"
      },
      "execution_count": 8,
      "outputs": []
    },
    {
      "cell_type": "code",
      "source": [
        "from datetime import datetime\n",
        "\n",
        "def run_alertaid(input_text):\n",
        "    print(\"🧠 Classifying hazard...\")\n",
        "    hazard = classify_hazard(input_text)\n",
        "\n",
        "    print(\"📊 Classification Result:\")\n",
        "    print(json.dumps(hazard, indent=2))\n",
        "\n",
        "    print(\"\\n📄 Full Safety Report:\\n\")\n",
        "    print(hazard[\"report_text\"])  # Always print the report\n",
        "\n",
        "    severity = hazard.get(\"severity\", 3)\n",
        "\n",
        "    if severity == 1:\n",
        "        subject = \"🚨 High-Risk Workplace Hazard Alert\"\n",
        "        recipient = \"receiveremail@gmail.com\"\n",
        "        body = hazard[\"report_text\"]\n",
        "        send_email(subject, body, recipient)\n",
        "\n",
        "    elif severity == 2:\n",
        "        log_entry = f\"\\n==== MEDIUM-RISK HAZARD ====\\nTimestamp: {datetime.now()}\\n{hazard['report_text']}\\n\"\n",
        "        with open(\"medium_risk_log.txt\", \"a\") as log_file:\n",
        "            log_file.write(log_entry)\n",
        "        print(\"📝 Medium-risk hazard logged to 'medium_risk_log.txt'.\")\n",
        "\n",
        "    else:\n",
        "        print(\"✅ Low-risk hazard. No action required.\")\n",
        "        print(\"🔍 Recommendation from Gemini:\")\n",
        "        report = hazard[\"report_text\"]\n",
        "        if \"Recommendations:\" in report:\n",
        "            print(report.split(\"Recommendations:\")[-1].strip())\n",
        "        else:\n",
        "            print(\"No specific recommendations found.\")"
      ],
      "metadata": {
        "id": "bmGttKD3CMXU"
      },
      "execution_count": 5,
      "outputs": []
    },
    {
      "cell_type": "code",
      "source": [
        "import smtplib\n",
        "import ssl\n",
        "from email.message import EmailMessage\n",
        "import getpass\n",
        "\n",
        "def send_email(subject, body, recipient_email):\n",
        "    sender_email = \"nityachintan@gmail.com\"\n",
        "    app_password = getpass.getpass(\"Enter your Gmail App Password: \")\n",
        "\n",
        "    msg = EmailMessage()\n",
        "    msg['Subject'] = subject\n",
        "    msg['From'] = sender_email\n",
        "    msg['To'] = recipient_email\n",
        "    msg.set_content(body)\n",
        "\n",
        "    context = ssl.create_default_context()\n",
        "    with smtplib.SMTP_SSL('smtp.gmail.com', 465, context=context) as smtp:\n",
        "        smtp.login(sender_email, app_password)\n",
        "        smtp.send_message(msg)\n",
        "\n",
        "    print(\"✅ Email sent successfully!\")\n"
      ],
      "metadata": {
        "id": "jzjkRq6ICev7"
      },
      "execution_count": 6,
      "outputs": []
    },
    {
      "cell_type": "code",
      "source": [
        "# High Risk, sevierity 1\n",
        "run_alertaid(\"Oil spill near main power unit. No signage. Workers slipping and nearby machines are active.\")"
      ],
      "metadata": {
        "colab": {
          "base_uri": "https://localhost:8080/",
          "height": 592
        },
        "id": "sjovMGK-CdwZ",
        "outputId": "b2367f73-0067-4018-e3f7-3613499aedf2"
      },
      "execution_count": 13,
      "outputs": [
        {
          "output_type": "stream",
          "name": "stdout",
          "text": [
            "🧠 Classifying hazard...\n",
            "🔍 Gemini Raw Output:\n",
            " ```json\n",
            "{\n",
            "  \"hazard_level\": \"High\",\n",
            "  \"severity\": 1,\n",
            "  \"report_text\": \"Safety Incident Report\\n\\nDate: October 26, 2023\\nTime: 10:45 AM\\nLocation: Near main power unit\\n\\nDescription: An oil spill occurred near the main power unit, creating a slippery surface.  No warning signage was present. Workers reported near misses due to slipping, and nearby machinery remained active, increasing the risk of serious injury.\\n\\nInjuries Reported: No injuries reported, but several near misses due to slipping.\\n\\nWitnesses: Ravi Patel (Technician), Aisha Khan (Supervisor)\\n\\nActions Taken: Area cordoned off; oil spill cleanup initiated; warning signs posted; machinery in the vicinity shut down.\\n\\nRecommendations: Implement a preventative maintenance program for power unit; improve spill response procedures; provide additional safety training for all workers; install improved oil containment systems.\"\n",
            "}\n",
            "```\n",
            "📊 Classification Result:\n",
            "{\n",
            "  \"hazard_level\": \"High\",\n",
            "  \"severity\": 1,\n",
            "  \"report_text\": \"Safety Incident Report\\n\\nDate: October 26, 2023\\nTime: 10:45 AM\\nLocation: Near main power unit\\n\\nDescription: An oil spill occurred near the main power unit, creating a slippery surface.  No warning signage was present. Workers reported near misses due to slipping, and nearby machinery remained active, increasing the risk of serious injury.\\n\\nInjuries Reported: No injuries reported, but several near misses due to slipping.\\n\\nWitnesses: Ravi Patel (Technician), Aisha Khan (Supervisor)\\n\\nActions Taken: Area cordoned off; oil spill cleanup initiated; warning signs posted; machinery in the vicinity shut down.\\n\\nRecommendations: Implement a preventative maintenance program for power unit; improve spill response procedures; provide additional safety training for all workers; install improved oil containment systems.\"\n",
            "}\n",
            "Safety Incident Report\n",
            "\n",
            "Date: October 26, 2023\n",
            "Time: 10:45 AM\n",
            "Location: Near main power unit\n",
            "\n",
            "Description: An oil spill occurred near the main power unit, creating a slippery surface.  No warning signage was present. Workers reported near misses due to slipping, and nearby machinery remained active, increasing the risk of serious injury.\n",
            "\n",
            "Injuries Reported: No injuries reported, but several near misses due to slipping.\n",
            "\n",
            "Witnesses: Ravi Patel (Technician), Aisha Khan (Supervisor)\n",
            "\n",
            "Actions Taken: Area cordoned off; oil spill cleanup initiated; warning signs posted; machinery in the vicinity shut down.\n",
            "\n",
            "Recommendations: Implement a preventative maintenance program for power unit; improve spill response procedures; provide additional safety training for all workers; install improved oil containment systems.\n",
            "Enter your Gmail App Password: ··········\n",
            "✅ Email sent successfully!\n"
          ]
        }
      ]
    },
    {
      "cell_type": "code",
      "source": [
        "# Medium Risk, sevierity 2\n",
        "run_alertaid(\"Loose cable running across the hallway in the packing section. No immediate injuries, but a worker tripped and almost fell. The area is usually crowded during shift changes.\")"
      ],
      "metadata": {
        "colab": {
          "base_uri": "https://localhost:8080/",
          "height": 245
        },
        "id": "OqQVcSzPLZ6u",
        "outputId": "950c5d9b-a43c-47c9-c6cc-f6f20803182a"
      },
      "execution_count": 9,
      "outputs": [
        {
          "output_type": "stream",
          "name": "stdout",
          "text": [
            "🧠 Classifying hazard...\n",
            "📊 Classification Result:\n",
            "{\n",
            "  \"hazard_level\": \"Medium\",\n",
            "  \"severity\": 2,\n",
            "  \"report_text\": \"Loose cable running across the hallway in the packing section. No immediate injuries, but a worker tripped and almost fell. The area is usually crowded during shift changes.\"\n",
            "}\n",
            "\n",
            "📄 Full Safety Report:\n",
            "\n",
            "Loose cable running across the hallway in the packing section. No immediate injuries, but a worker tripped and almost fell. The area is usually crowded during shift changes.\n",
            "📝 Medium-risk hazard logged to 'medium_risk_log.txt'.\n"
          ]
        }
      ]
    },
    {
      "cell_type": "code",
      "source": [
        "# Low Risk, sevierity 3\n",
        "run_alertaid(\"A small puddle of water was found near the water cooler due to condensation. It was wiped up promptly. No one slipped.\")"
      ],
      "metadata": {
        "colab": {
          "base_uri": "https://localhost:8080/",
          "height": 260
        },
        "id": "HGRLWXEpPJW8",
        "outputId": "7d637f5e-fc28-4973-98ba-b225ded43d83"
      },
      "execution_count": 12,
      "outputs": [
        {
          "output_type": "stream",
          "name": "stdout",
          "text": [
            "🧠 Classifying hazard...\n",
            "📊 Classification Result:\n",
            "{\n",
            "  \"hazard_level\": \"Low\",\n",
            "  \"severity\": 3,\n",
            "  \"report_text\": \"A small puddle of water was found near the water cooler due to condensation. It was wiped up promptly. No one slipped.\"\n",
            "}\n",
            "\n",
            "📄 Full Safety Report:\n",
            "\n",
            "A small puddle of water was found near the water cooler due to condensation. It was wiped up promptly. No one slipped.\n",
            "✅ Low-risk hazard. No action required.\n",
            "🔍 Recommendation from Gemini:\n",
            "No specific recommendations found.\n"
          ]
        }
      ]
    },
    {
      "cell_type": "code",
      "source": [],
      "metadata": {
        "id": "9kSkJZ28Pqgm"
      },
      "execution_count": null,
      "outputs": []
    }
  ]
}